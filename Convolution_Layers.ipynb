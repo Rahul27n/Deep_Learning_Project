{
  "nbformat": 4,
  "nbformat_minor": 0,
  "metadata": {
    "colab": {
      "name": "Untitled1.ipynb",
      "provenance": [],
      "collapsed_sections": []
    },
    "kernelspec": {
      "name": "python3",
      "display_name": "Python 3"
    },
    "language_info": {
      "name": "python"
    }
  },
  "cells": [
    {
      "cell_type": "code",
      "source": [
        "import tensorflow as tf\n",
        "import numpy as np\n",
        "from PIL import Image, ImageDraw, ImageFont\n",
        "from IPython.display import display\n",
        "from seaborn import color_palette\n",
        "import cv2"
      ],
      "metadata": {
        "id": "N4pbwlE2oPt2"
      },
      "execution_count": 13,
      "outputs": []
    },
    {
      "cell_type": "code",
      "source": [
        "_BATCH_NORM_DECAY = 0.9\n",
        "_BATCH_NORM_EPSILON = 1e-05\n",
        "_LEAKY_RELU = 0.1\n",
        "\n",
        "def batch_norm(input,format,learning):\n",
        "    layers = tf.layers.batch_normalization(inputs = input,momentum = _BATCH_NORM_DECAY,epsilon =_BATCH_NORM_EPSILON ,training = learning, axis = 1 if format == 'channels_first' else 3)\n",
        "    return layers\n",
        "\n",
        "def padded_input(input,kernelsize,format):\n",
        "    pad_s = (kernelsize - 1)//2\n",
        "    pad_e = kernelsize - 1 - pad_s\n",
        "    if format == 'channels_first':\n",
        "        return tf.pad(input,[[0,0],[0,0],[pad_s,pad_e],[pad_s,pad_e]])\n",
        "    else:\n",
        "        return tf.pad(input,[[0,0],[pad_s,pad_e],[pad_s,pad_e],[0,0]])\n",
        "\n",
        "def conv_layer_padding(input,stride,filter,kernel_size,format):\n",
        "    if stride >1:\n",
        "        input = padded_input(input,kernel_size,format)\n",
        "        padding = 'VALID'\n",
        "    else:\n",
        "        padding = 'SAME'\n",
        "    conv_output = tf.layers.conv2D(inputs = input,filters= filter,kernel_size = kernel_size,padding = padding,strides = stride,data_format = format)\n",
        "\n",
        "def yolo_convolution_block(inputs, filters, training, data_format):\n",
        "    inputs = conv_layer_padding(inputs, filters=filters, kernel_size=1,data_format=data_format)\n",
        "    inputs = batch_norm(inputs, training=training, data_format=data_format)\n",
        "    inputs = tf.nn.leaky_relu(inputs, alpha=_LEAKY_RELU)\n",
        "    inputs = conv_layer_padding(inputs, filters=2 * filters, kernel_size=3,data_format=data_format)\n",
        "    inputs = batch_norm(inputs, training=training, data_format=data_format)\n",
        "    inputs = tf.nn.leaky_relu(inputs, alpha=_LEAKY_RELU)\n",
        "    inputs = conv_layer_padding(inputs, filters=filters, kernel_size=1,data_format=data_format)\n",
        "    inputs = batch_norm(inputs, training=training, data_format=data_format)\n",
        "    inputs = tf.nn.leaky_relu(inputs, alpha=_LEAKY_RELU)\n",
        "    inputs = conv_layer_padding(inputs, filters=2 * filters, kernel_size=3,data_format=data_format)\n",
        "    inputs = batch_norm(inputs, training=training, data_format=data_format)\n",
        "    inputs = tf.nn.leaky_relu(inputs, alpha=_LEAKY_RELU)\n",
        "    inputs = conv_layer_padding(inputs, filters=filters, kernel_size=1,data_format=data_format)\n",
        "    inputs = batch_norm(inputs, training=training, data_format=data_format)\n",
        "    inputs = tf.nn.leaky_relu(inputs, alpha=_LEAKY_RELU)\n",
        "    route = inputs\n",
        "    inputs = conv_layer_padding(inputs, filters=2 * filters, kernel_size=3,data_format=data_format)\n",
        "    inputs = batch_norm(inputs, training=training, data_format=data_format)\n",
        "    inputs = tf.nn.leaky_relu(inputs, alpha=_LEAKY_RELU)\n",
        "    return route, inputs"
      ],
      "metadata": {
        "id": "UynRD5djQG3N"
      },
      "execution_count": 14,
      "outputs": []
    }
  ]
}