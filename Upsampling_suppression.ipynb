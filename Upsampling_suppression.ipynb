{
  "nbformat": 4,
  "nbformat_minor": 0,
  "metadata": {
    "colab": {
      "name": "Upsampling_suppression.ipynb",
      "provenance": []
    },
    "kernelspec": {
      "name": "python3",
      "display_name": "Python 3"
    },
    "language_info": {
      "name": "python"
    }
  },
  "cells": [
    {
      "cell_type": "code",
      "source": [
        "import tensorflow as tf\n",
        "import numpy as np\n",
        "from PIL import Image, ImageDraw, ImageFont\n",
        "from IPython.display import display\n",
        "from seaborn import color_palette\n",
        "import cv2"
      ],
      "metadata": {
        "id": "ZKwFbo6eXfC0"
      },
      "execution_count": null,
      "outputs": []
    },
    {
      "cell_type": "code",
      "execution_count": null,
      "metadata": {
        "id": "J0NF9X16VouH"
      },
      "outputs": [],
      "source": [
        "def upsample(inputs, out_shape,format):\n",
        "    \"\"\"Upsamples to `out_shape` using nearest neighbor interpolation.\"\"\"\n",
        "    if format != 'channels_first':\n",
        "        n_h = out_shape[2]\n",
        "        n_w = out_shape[1]\n",
        "    else:\n",
        "        inputs = tf.transpose(inputs, [0, 2, 3, 1])\n",
        "        n_h = out_shape[3]\n",
        "        n_w = out_shape[2]\n",
        "    inputs = tf.image.resize_nearest_neighbor(inputs, (n_h, n_w))\n",
        "\n",
        "    if format == 'channels_first':\n",
        "        inputs = tf.transpose(inputs, [0, 3, 1, 2])\n",
        "\n",
        "    return inputs"
      ]
    },
    {
      "cell_type": "code",
      "source": [
        "def build_boxes(inputs):\n",
        "    \"\"\"Computes top left and bottom right points of the boxes.\"\"\"\n",
        "    center_x, center_y, width, height, confidence, classes = \\\n",
        "        tf.split(inputs, [1, 1, 1, 1, 1, -1], axis=-1) # negative value to automatically determine the size of the remaining part\n",
        "\n",
        "    tleft_x = center_x - width / 2\n",
        "    tleft_y = center_y - height / 2\n",
        "    lright_x = center_x + width / 2\n",
        "    lright_y = center_y + height / 2\n",
        "\n",
        "    boxes = tf.concat([tleft_x, tleft_y,\n",
        "                       lright_x, lright_y,\n",
        "                       confidence, classes], axis=-1)\n",
        "\n",
        "    return boxes\n",
        "\n",
        "\n",
        "def non_max_suppression(inputs, n_classes, max_output_size, iou_thres,c_thresh):\n",
        "    batch = tf.unstack(inputs)\n",
        "    boxes_dicts = []\n",
        "    for boxes in batch:\n",
        "        boxes = tf.boolean_mask(boxes, boxes[:, 4] > c_thresh)\n",
        "        classes = tf.argmax(boxes[:, 5:], axis=-1)\n",
        "        classes = tf.expand_dims(tf.to_float(classes), axis=-1)\n",
        "        boxes = tf.concat([boxes[:, :5], classes], axis=-1)\n",
        "\n",
        "        boxes_dict = dict()\n",
        "        for cls in range(n_classes):\n",
        "            mask = tf.equal(boxes[:, 5], cls)\n",
        "            mask_shape = mask.get_shape()\n",
        "            if mask_shape.ndims != 0:\n",
        "                class_boxes = tf.boolean_mask(boxes, mask)\n",
        "                \n",
        "                boxes_coords, boxes_conf_scores, _ = tf.split(class_boxes,\n",
        "                                                              [4, 1, -1],\n",
        "                                                              axis=-1)\n",
        "                boxes_conf_scores = tf.reshape(boxes_conf_scores, [-1])\n",
        "                indices = tf.image.non_max_suppression(boxes_coords,\n",
        "                                                       boxes_conf_scores,\n",
        "                                                       max_output_size,\n",
        "                                                       iou_thres)\n",
        "                class_boxes = tf.gather(class_boxes, indices)\n",
        "                boxes_dict[cls] = class_boxes[:, :5]\n",
        "\n",
        "        boxed.append(boxes_dict)\n",
        "\n",
        "    return boxed"
      ],
      "metadata": {
        "id": "RwZeG3nbcyWw"
      },
      "execution_count": null,
      "outputs": []
    }
  ]
}